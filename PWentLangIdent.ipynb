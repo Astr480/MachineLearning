{
 "cells": [
  {
   "cell_type": "markdown",
   "metadata": {},
   "source": [
    "# Language Identification Exercise\n",
    "\n",
    "I will be constructing a classifier capable of identifying what language a document was written in. The dataset I will be working with is a selection of paragraphs from wikipedia."
   ]
  },
  {
   "cell_type": "code",
   "execution_count": 1,
   "metadata": {
    "collapsed": true
   },
   "outputs": [],
   "source": [
    "# Import the needed libraries.\n",
    "\n",
    "import numpy as np\n",
    "from sklearn.feature_extraction.text import CountVectorizer\n",
    "from sklearn.feature_extraction.text import TfidfTransformer\n",
    "from sklearn.naive_bayes import MultinomialNB\n",
    "from sklearn.pipeline import Pipeline\n",
    "from sklearn import metrics\n",
    "from sklearn import datasets\n",
    "from sklearn.model_selection import train_test_split\n",
    "from sklearn.linear_model import SGDClassifier"
   ]
  },
  {
   "cell_type": "code",
   "execution_count": 2,
   "metadata": {
    "collapsed": true
   },
   "outputs": [],
   "source": [
    "# Load the dataset, shuffle it randomly, \n",
    "# and split it into training and testing sets.\n",
    "\n",
    "dataset = datasets.load_files('paragraphs/')\n",
    "X = dataset.data\n",
    "y = dataset.target\n",
    "\n",
    "X_train, X_test, y_train, y_test = train_test_split(X, y, test_size = 0.33, random_state = 42)"
   ]
  },
  {
   "cell_type": "code",
   "execution_count": 3,
   "metadata": {
    "collapsed": false
   },
   "outputs": [],
   "source": [
    "# Set up a pipeline for analyzing the data:\n",
    "# 1. Run it through a count vectorizer, making\n",
    "#    a \"bag of words\".\n",
    "# 2. Run the vectors through a tf-idf transform\n",
    "#    to get word frequencies.\n",
    "# 3. Apply a multinomial naive Bayes classifier.\n",
    "\n",
    "text_clf = Pipeline([('vect', CountVectorizer()), \n",
    "                     ('tfidf', TfidfTransformer()), \n",
    "                     ('clf', MultinomialNB())\n",
    "                    ])"
   ]
  },
  {
   "cell_type": "code",
   "execution_count": 4,
   "metadata": {
    "collapsed": false
   },
   "outputs": [
    {
     "name": "stdout",
     "output_type": "stream",
     "text": [
      "0.886850152905\n"
     ]
    }
   ],
   "source": [
    "# Fit the model to the training data, predict \n",
    "# the tets data label, and compare with the \n",
    "# true labels to find the prediction accuracy.\n",
    "\n",
    "text_clf.fit(X_train, y_train)\n",
    "y_pred = text_clf.predict(X_test)\n",
    "print(text_clf.score(X_test, y_test))"
   ]
  },
  {
   "cell_type": "code",
   "execution_count": 5,
   "metadata": {
    "collapsed": false
   },
   "outputs": [
    {
     "name": "stdout",
     "output_type": "stream",
     "text": [
      "             precision    recall  f1-score   support\n",
      "\n",
      "         ar       1.00      0.71      0.83         7\n",
      "         de       0.71      1.00      0.83        52\n",
      "         en       0.79      1.00      0.88        45\n",
      "         es       0.98      0.98      0.98        43\n",
      "         fr       0.96      1.00      0.98        47\n",
      "         it       1.00      0.97      0.98        32\n",
      "         ja       1.00      0.10      0.18        20\n",
      "         nl       1.00      0.83      0.91        12\n",
      "         pl       1.00      0.47      0.64        15\n",
      "         pt       0.97      0.93      0.95        30\n",
      "         ru       1.00      0.88      0.93        24\n",
      "\n",
      "avg / total       0.91      0.89      0.87       327\n",
      "\n"
     ]
    }
   ],
   "source": [
    "# Create and print a classification report, \n",
    "# showing the performance of the model.\n",
    "\n",
    "print(metrics.classification_report(y_test, y_pred, target_names = dataset.target_names))"
   ]
  },
  {
   "cell_type": "markdown",
   "metadata": {},
   "source": [
    "While the model has excellent precision, we see that recall is quite low in a few cases. Japanese and Polish documents are not well identified. Let's check the confusion matrix to see what happened."
   ]
  },
  {
   "cell_type": "code",
   "execution_count": 6,
   "metadata": {
    "collapsed": false
   },
   "outputs": [
    {
     "name": "stdout",
     "output_type": "stream",
     "text": [
      "[[ 5  2  0  0  0  0  0  0  0  0  0]\n",
      " [ 0 52  0  0  0  0  0  0  0  0  0]\n",
      " [ 0  0 45  0  0  0  0  0  0  0  0]\n",
      " [ 0  0  1 42  0  0  0  0  0  0  0]\n",
      " [ 0  0  0  0 47  0  0  0  0  0  0]\n",
      " [ 0  0  1  0  0 31  0  0  0  0  0]\n",
      " [ 0 14  3  1  0  0  2  0  0  0  0]\n",
      " [ 0  1  0  0  1  0  0 10  0  0  0]\n",
      " [ 0  3  4  0  0  0  0  0  7  1  0]\n",
      " [ 0  0  2  0  0  0  0  0  0 28  0]\n",
      " [ 0  1  1  0  1  0  0  0  0  0 21]]\n"
     ]
    }
   ],
   "source": [
    "# Build and print the confusion matrix.\n",
    "\n",
    "print(metrics.confusion_matrix(y_test, y_pred))"
   ]
  },
  {
   "cell_type": "markdown",
   "metadata": {},
   "source": [
    "Interestingly, the Japanese documents are being misclassified as German at a high rate, and the Polish documents as German and English. I have no idea why, and this would be where I consult a linguist or more carefully explore the data.\n",
    "\n",
    "Lets try to fix this by simply using a better algorithm: the Support Vector Machine, trained with stochastic gradient descent."
   ]
  },
  {
   "cell_type": "code",
   "execution_count": 7,
   "metadata": {
    "collapsed": false
   },
   "outputs": [],
   "source": [
    "# Build the new text classifier pipeline, replacing\n",
    "# the classifier bit.\n",
    "\n",
    "text_clf = Pipeline([('vect', CountVectorizer()), \n",
    "                     ('tfidf', TfidfTransformer()), \n",
    "                     ('clf', SGDClassifier(loss = 'hinge', penalty = 'l2', \n",
    "                                           alpha = 1e-3, random_state = 42))\n",
    "                    ])"
   ]
  },
  {
   "cell_type": "code",
   "execution_count": 8,
   "metadata": {
    "collapsed": false
   },
   "outputs": [
    {
     "name": "stdout",
     "output_type": "stream",
     "text": [
      "0.987767584098\n"
     ]
    }
   ],
   "source": [
    "# Fit the model to the training data, predict \n",
    "# the tets data label, and compare with the \n",
    "# true labels to find the prediction accuracy.\n",
    "\n",
    "text_clf.fit(X_train, y_train)\n",
    "y_pred = text_clf.predict(X_test)\n",
    "print(text_clf.score(X_test, y_test))"
   ]
  },
  {
   "cell_type": "code",
   "execution_count": 9,
   "metadata": {
    "collapsed": false
   },
   "outputs": [
    {
     "name": "stdout",
     "output_type": "stream",
     "text": [
      "             precision    recall  f1-score   support\n",
      "\n",
      "         ar       1.00      1.00      1.00         7\n",
      "         de       1.00      1.00      1.00        52\n",
      "         en       0.98      1.00      0.99        45\n",
      "         es       1.00      0.98      0.99        43\n",
      "         fr       1.00      1.00      1.00        47\n",
      "         it       1.00      1.00      1.00        32\n",
      "         ja       0.86      0.95      0.90        20\n",
      "         nl       1.00      1.00      1.00        12\n",
      "         pl       1.00      1.00      1.00        15\n",
      "         pt       1.00      0.97      0.98        30\n",
      "         ru       1.00      0.96      0.98        24\n",
      "\n",
      "avg / total       0.99      0.99      0.99       327\n",
      "\n"
     ]
    }
   ],
   "source": [
    "# Create and print a classification report, \n",
    "# showing the performance of the model.\n",
    "\n",
    "print(metrics.classification_report(y_test, y_pred, target_names = dataset.target_names))"
   ]
  },
  {
   "cell_type": "code",
   "execution_count": 10,
   "metadata": {
    "collapsed": false
   },
   "outputs": [
    {
     "name": "stdout",
     "output_type": "stream",
     "text": [
      "[[ 7  0  0  0  0  0  0  0  0  0  0]\n",
      " [ 0 52  0  0  0  0  0  0  0  0  0]\n",
      " [ 0  0 45  0  0  0  0  0  0  0  0]\n",
      " [ 0  0  0 42  0  0  1  0  0  0  0]\n",
      " [ 0  0  0  0 47  0  0  0  0  0  0]\n",
      " [ 0  0  0  0  0 32  0  0  0  0  0]\n",
      " [ 0  0  1  0  0  0 19  0  0  0  0]\n",
      " [ 0  0  0  0  0  0  0 12  0  0  0]\n",
      " [ 0  0  0  0  0  0  0  0 15  0  0]\n",
      " [ 0  0  0  0  0  0  1  0  0 29  0]\n",
      " [ 0  0  0  0  0  0  1  0  0  0 23]]\n"
     ]
    }
   ],
   "source": [
    "# Build and print the confusion matrix.\n",
    "\n",
    "print(metrics.confusion_matrix(y_test, y_pred))"
   ]
  },
  {
   "cell_type": "markdown",
   "metadata": {},
   "source": [
    "Our misclassification errors are almost totally gone! That, I would say, is a success."
   ]
  },
  {
   "cell_type": "code",
   "execution_count": null,
   "metadata": {
    "collapsed": true
   },
   "outputs": [],
   "source": []
  }
 ],
 "metadata": {
  "kernelspec": {
   "display_name": "Python [conda env:py36]",
   "language": "python",
   "name": "conda-env-py36-py"
  },
  "language_info": {
   "codemirror_mode": {
    "name": "ipython",
    "version": 3
   },
   "file_extension": ".py",
   "mimetype": "text/x-python",
   "name": "python",
   "nbconvert_exporter": "python",
   "pygments_lexer": "ipython3",
   "version": "3.6.2"
  }
 },
 "nbformat": 4,
 "nbformat_minor": 2
}
